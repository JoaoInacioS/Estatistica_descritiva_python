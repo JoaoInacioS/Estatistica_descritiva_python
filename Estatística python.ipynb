{
 "cells": [
  {
   "cell_type": "code",
   "execution_count": 1,
   "metadata": {
    "executionInfo": {
     "elapsed": 934,
     "status": "ok",
     "timestamp": 1732185218672,
     "user": {
      "displayName": "JOÃO INÁCIO SCRIMINI",
      "userId": "09372156849392623436"
     },
     "user_tz": 180
    },
    "id": "LrrgNXz8MEeu"
   },
   "outputs": [],
   "source": [
    "# Importar pacotes:\n",
    "import pandas as pd\n",
    "import numpy as np"
   ]
  },
  {
   "cell_type": "code",
   "execution_count": 2,
   "metadata": {
    "colab": {
     "base_uri": "https://localhost:8080/"
    },
    "executionInfo": {
     "elapsed": 1386,
     "status": "ok",
     "timestamp": 1732185982383,
     "user": {
      "displayName": "JOÃO INÁCIO SCRIMINI",
      "userId": "09372156849392623436"
     },
     "user_tz": 180
    },
    "id": "QoMZdKfNJ3sH",
    "outputId": "c7ad16b9-811b-45f3-92b0-525d4b74fc66"
   },
   "outputs": [
    {
     "name": "stdout",
     "output_type": "stream",
     "text": [
      "   Distancia  Potencia        T_Prop Uso_comercial\n",
      "0    3575.77      2160  Convencional           Sim\n",
      "1    3803.76      1990      Elétrico           Não\n",
      "2    5962.33      2350      Elétrico           Sim\n",
      "3    5569.17      2100  Convencional           Sim\n",
      "4    2593.53      1620      Elétrico           Não\n"
     ]
    }
   ],
   "source": [
    "# Carregar o banco de dados\n",
    "dados = pd.read_excel('banco_aeronaves.xlsx')\n",
    "\n",
    "# Exibir as primeiras linhas para verificar os dados\n",
    "print(dados.head())"
   ]
  },
  {
   "cell_type": "markdown",
   "metadata": {
    "id": "X8rvyrUsNmKc"
   },
   "source": [
    "**Análise Descritiva das variáveis:**\n",
    "\n",
    "Dados fictícios de 50 aeronaves:\n",
    "\n",
    "*   Distância Máxima de Voo (em km) - Distancia\n",
    "*   Potência motor (kW) - Potencia\n",
    "*   Tipo de Propulsão (Convencional, Elétrico) - T_Prop\n",
    "*   Aeronave de Uso Comercial(Não, Sim) - Uso_comercial\n",
    "\n",
    "\n",
    "\n",
    "\n",
    "\n",
    "\n",
    "\n",
    "\n",
    "\n"
   ]
  },
  {
   "cell_type": "code",
   "execution_count": 3,
   "metadata": {
    "colab": {
     "base_uri": "https://localhost:8080/"
    },
    "executionInfo": {
     "elapsed": 274,
     "status": "ok",
     "timestamp": 1732186307682,
     "user": {
      "displayName": "JOÃO INÁCIO SCRIMINI",
      "userId": "09372156849392623436"
     },
     "user_tz": 180
    },
    "id": "y5CkA6ZtNjjC",
    "outputId": "0319adb5-1850-49d0-85db-3c4544250410"
   },
   "outputs": [
    {
     "name": "stdout",
     "output_type": "stream",
     "text": [
      "n: 50\n",
      "Média: 4384.1112\n",
      "Mediana: 4399.78\n",
      "Mínimo: 2593.53\n",
      "Máximo: 6235.51\n",
      "Variância: 858515.9687\n",
      "Desvio padrão: 926.5614\n"
     ]
    }
   ],
   "source": [
    "# n:\n",
    "print(\"n:\", dados['Distancia'].count())\n",
    "\n",
    "# Média:\n",
    "print(\"Média:\", round(dados['Distancia'].mean(), 4))\n",
    "\n",
    "# Mediana:\n",
    "print(\"Mediana:\", round(dados['Distancia'].median(), 4))\n",
    "\n",
    "# Mínimo:\n",
    "print(\"Mínimo:\", round(dados['Distancia'].min(), 4))\n",
    "\n",
    "# Máximo:\n",
    "print(\"Máximo:\", round(dados['Distancia'].max(), 4))\n",
    "\n",
    "# Variância:\n",
    "print(\"Variância:\", round(dados['Distancia'].var(), 4))\n",
    "\n",
    "# Desvio padrão:\n",
    "print(\"Desvio padrão:\", round(dados['Distancia'].std(), 4))"
   ]
  },
  {
   "cell_type": "code",
   "execution_count": 4,
   "metadata": {
    "colab": {
     "base_uri": "https://localhost:8080/",
     "height": 300
    },
    "executionInfo": {
     "elapsed": 238,
     "status": "ok",
     "timestamp": 1732139692875,
     "user": {
      "displayName": "JOÃO INÁCIO SCRIMINI",
      "userId": "09372156849392623436"
     },
     "user_tz": 180
    },
    "id": "Ib7gorq6Owlv",
    "outputId": "f81131e5-cb5a-4756-d6ca-920ca6e27ffb"
   },
   "outputs": [
    {
     "data": {
      "text/html": [
       "<div>\n",
       "<style scoped>\n",
       "    .dataframe tbody tr th:only-of-type {\n",
       "        vertical-align: middle;\n",
       "    }\n",
       "\n",
       "    .dataframe tbody tr th {\n",
       "        vertical-align: top;\n",
       "    }\n",
       "\n",
       "    .dataframe thead th {\n",
       "        text-align: right;\n",
       "    }\n",
       "</style>\n",
       "<table border=\"1\" class=\"dataframe\">\n",
       "  <thead>\n",
       "    <tr style=\"text-align: right;\">\n",
       "      <th></th>\n",
       "      <th>Distancia</th>\n",
       "      <th>Potencia</th>\n",
       "    </tr>\n",
       "  </thead>\n",
       "  <tbody>\n",
       "    <tr>\n",
       "      <th>count</th>\n",
       "      <td>50.0000</td>\n",
       "      <td>50.0000</td>\n",
       "    </tr>\n",
       "    <tr>\n",
       "      <th>mean</th>\n",
       "      <td>4384.1112</td>\n",
       "      <td>2005.0000</td>\n",
       "    </tr>\n",
       "    <tr>\n",
       "      <th>std</th>\n",
       "      <td>926.5614</td>\n",
       "      <td>191.6976</td>\n",
       "    </tr>\n",
       "    <tr>\n",
       "      <th>min</th>\n",
       "      <td>2593.5300</td>\n",
       "      <td>1620.0000</td>\n",
       "    </tr>\n",
       "    <tr>\n",
       "      <th>25%</th>\n",
       "      <td>3767.8725</td>\n",
       "      <td>1900.0000</td>\n",
       "    </tr>\n",
       "    <tr>\n",
       "      <th>50%</th>\n",
       "      <td>4399.7800</td>\n",
       "      <td>2020.0000</td>\n",
       "    </tr>\n",
       "    <tr>\n",
       "      <th>75%</th>\n",
       "      <td>5065.7850</td>\n",
       "      <td>2150.0000</td>\n",
       "    </tr>\n",
       "    <tr>\n",
       "      <th>max</th>\n",
       "      <td>6235.5100</td>\n",
       "      <td>2400.0000</td>\n",
       "    </tr>\n",
       "  </tbody>\n",
       "</table>\n",
       "</div>"
      ],
      "text/plain": [
       "       Distancia   Potencia\n",
       "count    50.0000    50.0000\n",
       "mean   4384.1112  2005.0000\n",
       "std     926.5614   191.6976\n",
       "min    2593.5300  1620.0000\n",
       "25%    3767.8725  1900.0000\n",
       "50%    4399.7800  2020.0000\n",
       "75%    5065.7850  2150.0000\n",
       "max    6235.5100  2400.0000"
      ]
     },
     "execution_count": 4,
     "metadata": {},
     "output_type": "execute_result"
    }
   ],
   "source": [
    "# Descriva geral variáveis quantitativas:\n",
    "round(dados[['Distancia','Potencia']].describe(),4)"
   ]
  },
  {
   "cell_type": "code",
   "execution_count": 5,
   "metadata": {
    "colab": {
     "base_uri": "https://localhost:8080/"
    },
    "executionInfo": {
     "elapsed": 295,
     "status": "ok",
     "timestamp": 1732186688853,
     "user": {
      "displayName": "JOÃO INÁCIO SCRIMINI",
      "userId": "09372156849392623436"
     },
     "user_tz": 180
    },
    "id": "m-CVJsy_RLd2",
    "outputId": "d977df87-1bc9-427d-efb2-04496632772c"
   },
   "outputs": [
    {
     "name": "stdout",
     "output_type": "stream",
     "text": [
      " Tipo de Propulsão:\n",
      " Convencional    25\n",
      "Elétrico        25\n",
      "Name: T_Prop, dtype: int64\n",
      "\n",
      " Aeronave de Uso Comercial:\n",
      " Sim    30\n",
      "Não    20\n",
      "Name: Uso_comercial, dtype: int64\n"
     ]
    }
   ],
   "source": [
    "# Descriva geral variáveis qualitativas:\n",
    "# Frequencias absolutas:\n",
    "print(\" Tipo de Propulsão:\\n\", dados['T_Prop'].value_counts())\n",
    "print(\"\\n Aeronave de Uso Comercial:\\n\", dados['Uso_comercial'].value_counts())"
   ]
  },
  {
   "cell_type": "markdown",
   "metadata": {
    "id": "80eS_cXGUKtw"
   },
   "source": [
    "**Gráficos para as variáveis:**"
   ]
  },
  {
   "cell_type": "code",
   "execution_count": 6,
   "metadata": {
    "colab": {
     "base_uri": "https://localhost:8080/",
     "height": 334
    },
    "executionInfo": {
     "elapsed": 990,
     "status": "ok",
     "timestamp": 1732186968321,
     "user": {
      "displayName": "JOÃO INÁCIO SCRIMINI",
      "userId": "09372156849392623436"
     },
     "user_tz": 180
    },
    "id": "5Elm3xWfUKMK",
    "outputId": "252c545b-c550-4d44-b116-59b24cca6223"
   },
   "outputs": [
    {
     "data": {
      "image/png": "[encoded data removed]",
      "text/plain": [
       "<Figure size 360x216 with 1 Axes>"
      ]
     },
     "metadata": {
      "needs_background": "light"
     },
     "output_type": "display_data"
    }
   ],
   "source": [
    "import matplotlib.pyplot as plt # Função para os gráficos\n",
    "# Histograma para a Distancia:\n",
    "plt.figure(figsize=(5, 3)) # Tamanho da figura\n",
    "plt.hist(dados['Distancia'])\n",
    "plt.title('Histograma Distância')\n",
    "plt.xlabel('Distância (km)')\n",
    "plt.ylabel('Frequência Absoluta')\n",
    "plt.show()"
   ]
  },
  {
   "cell_type": "code",
   "execution_count": 7,
   "metadata": {
    "colab": {
     "base_uri": "https://localhost:8080/",
     "height": 334
    },
    "executionInfo": {
     "elapsed": 992,
     "status": "ok",
     "timestamp": 1732186990737,
     "user": {
      "displayName": "JOÃO INÁCIO SCRIMINI",
      "userId": "09372156849392623436"
     },
     "user_tz": 180
    },
    "id": "wovG8373cSxY",
    "outputId": "3469ac55-21cc-45d7-b7be-3ff90f56b881"
   },
   "outputs": [
    {
     "data": {
      "image/png": "[encoded data removed]",
      "text/plain": [
       "<Figure size 360x216 with 1 Axes>"
      ]
     },
     "metadata": {
      "needs_background": "light"
     },
     "output_type": "display_data"
    }
   ],
   "source": [
    "# Histograma para a Potencia:\n",
    "plt.figure(figsize=(5, 3)) # Tamanho da figura\n",
    "plt.hist(dados['Potencia'])\n",
    "plt.title('Histograma Potência Motor')\n",
    "plt.xlabel('Potência Motor (kW)')\n",
    "plt.ylabel('Frequência Absoluta')\n",
    "plt.show()"
   ]
  },
  {
   "cell_type": "code",
   "execution_count": 14,
   "metadata": {
    "colab": {
     "base_uri": "https://localhost:8080/",
     "height": 333
    },
    "executionInfo": {
     "elapsed": 582,
     "status": "ok",
     "timestamp": 1732187146192,
     "user": {
      "displayName": "JOÃO INÁCIO SCRIMINI",
      "userId": "09372156849392623436"
     },
     "user_tz": 180
    },
    "id": "Aj_daghQcp0d",
    "outputId": "e0553817-816a-4c3f-f2af-6bdb1fc3d4e2"
   },
   "outputs": [
    {
     "data": {
      "image/png": "[encoded data removed]",
      "text/plain": [
       "<Figure size 500x300 with 1 Axes>"
      ]
     },
     "metadata": {},
     "output_type": "display_data"
    }
   ],
   "source": [
    "# Gráfico de barras para a T_Prop:\n",
    "plt.figure(figsize=(5, 3)) # Tamanho da figura\n",
    "dados['T_Prop'].value_counts().plot(kind='bar')\n",
    "plt.xticks(rotation=0) # Deixar a escrita do eixo x na horizontal\n",
    "plt.title('Contagem de Tipos de Propulsão')\n",
    "plt.xlabel('Tipo de Propulsão')\n",
    "plt.ylabel('Quantidade')\n",
    "plt.show()"
   ]
  },
  {
   "cell_type": "code",
   "execution_count": null,
   "metadata": {
    "colab": {
     "base_uri": "https://localhost:8080/",
     "height": 333
    },
    "executionInfo": {
     "elapsed": 548,
     "status": "ok",
     "timestamp": 1732139755799,
     "user": {
      "displayName": "JOÃO INÁCIO SCRIMINI",
      "userId": "09372156849392623436"
     },
     "user_tz": 180
    },
    "id": "lIGyVQaTdlEk",
    "outputId": "8f71b02c-7471-4a5e-b6e5-a10fd497a1c1"
   },
   "outputs": [
    {
     "data": {
      "image/png": "[encoded data removed]",
      "text/plain": [
       "<Figure size 500x300 with 1 Axes>"
      ]
     },
     "metadata": {},
     "output_type": "display_data"
    }
   ],
   "source": [
    "# Gráfico de barras para Uso_comercial:\n",
    "plt.figure(figsize=(5, 3)) # Tamanho da figura\n",
    "dados['Uso_comercial'].value_counts().plot(kind='bar')\n",
    "plt.xticks(rotation=0) # Deixar a escrita do eixo x na horizontal\n",
    "plt.title('Contagem de Aeronave de Uso Comercial')\n",
    "plt.xlabel('Aeronave de Uso Comercial')\n",
    "plt.ylabel('Quantidade')\n",
    "plt.show()"
   ]
  },
  {
   "cell_type": "markdown",
   "metadata": {
    "id": "du7_7W1C5iDb"
   },
   "source": [
    "**Testes de hipóteses:**"
   ]
  },
  {
   "cell_type": "markdown",
   "metadata": {
    "id": "fkJAEqJQuBkC"
   },
   "source": [
    "**Definição de p-valor:**\n",
    "\n",
    "O **p-valor** é a probabilidade de obter uma estatística de teste igual ou mais extrema do que a observada na amostra, assumindo que a hipótese nula ($H_0$) seja verdadeira. Em testes de hipóteses, o p-valor é usado para decidir se há evidências suficientes para rejeitar a hipótese nula.\n",
    "\n",
    "A fórmula para o p-valor é dada por (unilateral):\n",
    "\n",
    "$$\n",
    "p\\text{-valor} = P(\\text{Estatística de teste} \\geq \\text{Valor observado} \\mid H_0 \\text{ verdadeira}).\n",
    "$$\n",
    "\n",
    "**Decisão:**\n",
    "Se o p-valor for menor ou igual ao nível de significância ($\\alpha$), rejeita-se $H_0$, indicando que o resultado é estatisticamente significativo. Caso contrário, não rejeita-se $H_0$, significando que os dados não fornecem evidências suficientes para comprovar a hipótese alternativa.\n",
    "\n",
    "$$\n",
    "\\begin{cases}\n",
    "p\\text{-valor} \\leq \\alpha \\quad \\Rightarrow \\quad \\text{Rejeitar } H_0\\\\\n",
    "p\\text{-valor} > \\alpha \\quad \\Rightarrow \\quad \\text{Não rejeitar } H_0\n",
    "\\end{cases}\n",
    "$$"
   ]
  },
  {
   "cell_type": "code",
   "execution_count": 15,
   "metadata": {
    "executionInfo": {
     "elapsed": 251,
     "status": "ok",
     "timestamp": 1732187749973,
     "user": {
      "displayName": "JOÃO INÁCIO SCRIMINI",
      "userId": "09372156849392623436"
     },
     "user_tz": 180
    },
    "id": "ATOVJp0QjwIr"
   },
   "outputs": [],
   "source": [
    "# Função para testar a hipoteses:\n",
    "def testar_hipotese(p_valor, alpha=0.05):\n",
    "    if p_valor <= alpha:\n",
    "        return \"Rejeita-se a hipótese nula. (Aceita H1)\"\n",
    "    else:\n",
    "        return \"Não rejeita-se a hipótese nula. (Aceita H0)\""
   ]
  },
  {
   "cell_type": "code",
   "execution_count": 16,
   "metadata": {
    "colab": {
     "base_uri": "https://localhost:8080/"
    },
    "executionInfo": {
     "elapsed": 247,
     "status": "ok",
     "timestamp": 1732187848762,
     "user": {
      "displayName": "JOÃO INÁCIO SCRIMINI",
      "userId": "09372156849392623436"
     },
     "user_tz": 180
    },
    "id": "GJiMQxaK6Aqs",
    "outputId": "e7405d97-66b8-4d5c-d175-bff92ef28d93"
   },
   "outputs": [
    {
     "name": "stdout",
     "output_type": "stream",
     "text": [
      "Dados Convencional:\n",
      " 0     3575.77\n",
      "3     5569.17\n",
      "5     2741.16\n",
      "12    5727.82\n",
      "13    2626.96\n",
      "Name: Distancia, dtype: float64\n",
      "\n",
      "Dados Elétrico:\n",
      " 1    3803.76\n",
      "2    5962.33\n",
      "4    2593.53\n",
      "6    4961.97\n",
      "7    3678.89\n",
      "Name: Distancia, dtype: float64\n"
     ]
    }
   ],
   "source": [
    "# Filtando os dados do Tipo de Propulsão para a distancia:\n",
    "convencional = dados[dados['T_Prop'] == 'Convencional']['Distancia']\n",
    "eletrico = dados[dados['T_Prop'] == 'Elétrico']['Distancia']\n",
    "print(\"Dados Convencional:\\n\", convencional.head())\n",
    "print(\"\\nDados Elétrico:\\n\", eletrico.head())"
   ]
  },
  {
   "cell_type": "code",
   "execution_count": 17,
   "metadata": {
    "colab": {
     "base_uri": "https://localhost:8080/"
    },
    "executionInfo": {
     "elapsed": 2407,
     "status": "ok",
     "timestamp": 1732188054226,
     "user": {
      "displayName": "JOÃO INÁCIO SCRIMINI",
      "userId": "09372156849392623436"
     },
     "user_tz": 180
    },
    "id": "K6EvFM038QaM",
    "outputId": "244acb1b-708a-4b0e-f3a4-17056d8949ee"
   },
   "outputs": [
    {
     "data": {
      "text/plain": [
       "LeveneResult(statistic=0.4960910029652287, pvalue=0.4846261186795855)"
      ]
     },
     "execution_count": 17,
     "metadata": {},
     "output_type": "execute_result"
    }
   ],
   "source": [
    "#Teste t para o Tipo de Propulsão referente a distancia:\n",
    "from scipy.stats import ttest_ind # função do teste t para duas médias indenpedentes\n",
    "from scipy.stats import levene # função do teste F para as variâncias\n",
    "\n",
    "# Primeiro verificar a variância:\n",
    "levene(convencional, eletrico) # Teste F para variâncias\n",
    "\n",
    "# p-valor maior que alpha 0,05, Não rejeitamos H0. As variâncias são iguais."
   ]
  },
  {
   "cell_type": "code",
   "execution_count": 22,
   "metadata": {
    "colab": {
     "base_uri": "https://localhost:8080/",
     "height": 35
    },
    "executionInfo": {
     "elapsed": 237,
     "status": "ok",
     "timestamp": 1732188261271,
     "user": {
      "displayName": "JOÃO INÁCIO SCRIMINI",
      "userId": "09372156849392623436"
     },
     "user_tz": 180
    },
    "id": "uZuRnWu49DSB",
    "outputId": "4667c844-c0ef-4fad-e7e6-5b1e199c77fe"
   },
   "outputs": [
    {
     "data": {
      "application/vnd.google.colaboratory.intrinsic+json": {
       "type": "string"
      },
      "text/plain": [
       "'Não rejeita-se a hipótese nula. (Aceita H0)'"
      ]
     },
     "execution_count": 22,
     "metadata": {},
     "output_type": "execute_result"
    }
   ],
   "source": [
    "# H0: sigma2_1 = sigma2_2\n",
    "# H1: sigma2_1 dif sigma2_2\n",
    "testar_hipotese(0.4846)"
   ]
  },
  {
   "cell_type": "code",
   "execution_count": 23,
   "metadata": {
    "colab": {
     "base_uri": "https://localhost:8080/"
    },
    "executionInfo": {
     "elapsed": 272,
     "status": "ok",
     "timestamp": 1732188353107,
     "user": {
      "displayName": "JOÃO INÁCIO SCRIMINI",
      "userId": "09372156849392623436"
     },
     "user_tz": 180
    },
    "id": "R3_sVj8B5mPj",
    "outputId": "6e35c14a-6245-4054-d0c9-9ebb8fcf0b59"
   },
   "outputs": [
    {
     "data": {
      "text/plain": [
       "TtestResult(statistic=-1.9845924008236167, pvalue=0.052921950882972524, df=48.0)"
      ]
     },
     "execution_count": 23,
     "metadata": {},
     "output_type": "execute_result"
    }
   ],
   "source": [
    "# Testar de há diferença entre as distancias percorridas com os diferentes tipos de propulsão\n",
    "# considerando variancias iguais:\n",
    "\n",
    "# alternative= 'greater' (direita) ou 'less' (esquerda) ou 'two-sided' (bilateral)\n",
    "\n",
    "ttest_ind(convencional, eletrico, equal_var=True, alternative = 'two-sided')\n",
    "\n",
    "# Considerando um alpha = 0,05, com 48 graus de liberdade (aprox 50 na tabela)\n",
    "# o t tabelado é +- 2,009. Portanto, -2,009 < -1.98 < 2,009, Aceita H0."
   ]
  },
  {
   "cell_type": "code",
   "execution_count": 24,
   "metadata": {
    "colab": {
     "base_uri": "https://localhost:8080/",
     "height": 35
    },
    "executionInfo": {
     "elapsed": 253,
     "status": "ok",
     "timestamp": 1732188484723,
     "user": {
      "displayName": "JOÃO INÁCIO SCRIMINI",
      "userId": "09372156849392623436"
     },
     "user_tz": 180
    },
    "id": "YqAA5OKN_WNQ",
    "outputId": "a9b13b05-ac13-4b10-9191-4b5590dc8567"
   },
   "outputs": [
    {
     "data": {
      "application/vnd.google.colaboratory.intrinsic+json": {
       "type": "string"
      },
      "text/plain": [
       "'Não rejeita-se a hipótese nula. (Aceita H0)'"
      ]
     },
     "execution_count": 24,
     "metadata": {},
     "output_type": "execute_result"
    }
   ],
   "source": [
    "# H0: mu_1 = mu_2\n",
    "# H1: mu_1 dif mu_2\n",
    "testar_hipotese(0.0529)\n",
    "# Os tipos de Propulsão não tem diferença na distancia percorrida"
   ]
  },
  {
   "cell_type": "code",
   "execution_count": null,
   "metadata": {
    "colab": {
     "base_uri": "https://localhost:8080/"
    },
    "executionInfo": {
     "elapsed": 259,
     "status": "ok",
     "timestamp": 1732140435535,
     "user": {
      "displayName": "JOÃO INÁCIO SCRIMINI",
      "userId": "09372156849392623436"
     },
     "user_tz": 180
    },
    "id": "LHBQDLHeGNTA",
    "outputId": "80fc60a3-c8dd-4685-997c-11337f1acab9"
   },
   "outputs": [
    {
     "name": "stdout",
     "output_type": "stream",
     "text": [
      "Uso_comercial  Não  Sim\n",
      "T_Prop                 \n",
      "Convencional     8   17\n",
      "Elétrico        12   13 \n",
      "\n",
      "Chi2ContingencyResult(statistic=1.3333333333333335, pvalue=0.2482130789899202, dof=1, expected_freq=array([[10., 15.],\n",
      "       [10., 15.]]))\n"
     ]
    }
   ],
   "source": [
    "# Teste qui-quadrado:\n",
    "from scipy.stats import chi2_contingency # função do teste qui-quadrado\n",
    "\n",
    "#teste entre T_prop e Uso_comercial:\n",
    "contingency_table = pd.crosstab(dados['T_Prop'], dados['Uso_comercial'])\n",
    "print(contingency_table,\"\\n\")\n",
    "print(chi2_contingency(contingency_table,correction=False))"
   ]
  },
  {
   "cell_type": "code",
   "execution_count": 25,
   "metadata": {
    "colab": {
     "base_uri": "https://localhost:8080/",
     "height": 35
    },
    "executionInfo": {
     "elapsed": 255,
     "status": "ok",
     "timestamp": 1732188774554,
     "user": {
      "displayName": "JOÃO INÁCIO SCRIMINI",
      "userId": "09372156849392623436"
     },
     "user_tz": 180
    },
    "id": "5yltK3z4G-jC",
    "outputId": "c1410792-bfb9-4d33-adb1-157af0052eb3"
   },
   "outputs": [
    {
     "data": {
      "application/vnd.google.colaboratory.intrinsic+json": {
       "type": "string"
      },
      "text/plain": [
       "'Não rejeita-se a hipótese nula. (Aceita H0)'"
      ]
     },
     "execution_count": 25,
     "metadata": {},
     "output_type": "execute_result"
    }
   ],
   "source": [
    "# H0: Não tem associação\n",
    "# H1: Tem associação\n",
    "testar_hipotese(0.2482)\n",
    "# Não existe associação entre o uso comercial e o tipo de propulsão"
   ]
  },
  {
   "cell_type": "code",
   "execution_count": 26,
   "metadata": {
    "colab": {
     "base_uri": "https://localhost:8080/"
    },
    "executionInfo": {
     "elapsed": 263,
     "status": "ok",
     "timestamp": 1732188860262,
     "user": {
      "displayName": "JOÃO INÁCIO SCRIMINI",
      "userId": "09372156849392623436"
     },
     "user_tz": 180
    },
    "id": "m_C3KlO1x0cj",
    "outputId": "8ffb2a79-5c13-4bde-eb0a-8d815cc3072d"
   },
   "outputs": [
    {
     "data": {
      "text/plain": [
       "TtestResult(statistic=-0.8844072197889457, pvalue=0.3807956078908511, df=49)"
      ]
     },
     "execution_count": 26,
     "metadata": {},
     "output_type": "execute_result"
    }
   ],
   "source": [
    "# Testar se a distancia percorrida é diferente que 4500:\n",
    "\n",
    "# alternative= 'greater' (direita) ou 'less' (esquerda) ou 'two-sided' (bilateral)\n",
    "\n",
    "#test t para uma amostra:\n",
    "from scipy.stats import ttest_1samp # função do teste t para uma amostra\n",
    "\n",
    "ttest_1samp(dados['Distancia'], 4500, alternative='two-sided')"
   ]
  },
  {
   "cell_type": "code",
   "execution_count": 27,
   "metadata": {
    "colab": {
     "base_uri": "https://localhost:8080/",
     "height": 35
    },
    "executionInfo": {
     "elapsed": 272,
     "status": "ok",
     "timestamp": 1732188938323,
     "user": {
      "displayName": "JOÃO INÁCIO SCRIMINI",
      "userId": "09372156849392623436"
     },
     "user_tz": 180
    },
    "id": "OuKVY7wrz0Im",
    "outputId": "265c9efb-751f-4fc2-9a12-f9e2f7d5570b"
   },
   "outputs": [
    {
     "data": {
      "application/vnd.google.colaboratory.intrinsic+json": {
       "type": "string"
      },
      "text/plain": [
       "'Não rejeita-se a hipótese nula. (Aceita H0)'"
      ]
     },
     "execution_count": 27,
     "metadata": {},
     "output_type": "execute_result"
    }
   ],
   "source": [
    "# H0: mu = 4500\n",
    "# H1: mu dif 4500\n",
    "testar_hipotese(0.3808)\n",
    "# Temos que a nossa média populacional das distancias percorridas é de 4500 km"
   ]
  },
  {
   "cell_type": "markdown",
   "metadata": {
    "id": "N9kmKKD6pst-"
   },
   "source": [
    "**Correlação e Regressão:**"
   ]
  },
  {
   "cell_type": "code",
   "execution_count": 8,
   "metadata": {
    "colab": {
     "base_uri": "https://localhost:8080/"
    },
    "executionInfo": {
     "elapsed": 261,
     "status": "ok",
     "timestamp": 1732189480953,
     "user": {
      "displayName": "JOÃO INÁCIO SCRIMINI",
      "userId": "09372156849392623436"
     },
     "user_tz": 180
    },
    "id": "8Sq60L7Tp3KB",
    "outputId": "2ee88be3-45c0-4151-e6da-0738f7af0379"
   },
   "outputs": [
    {
     "name": "stdout",
     "output_type": "stream",
     "text": [
      "Correlação de Pearson: 0.8285\n",
      "p-valor: 1.1228e-13\n"
     ]
    }
   ],
   "source": [
    "# Correlação de Pearson para a distância e potência:\n",
    "print(\"Correlação de Pearson:\", round(dados['Distancia'].corr(dados['Potencia']), 4))\n",
    "\n",
    "# Teste para verificar a correlação:\n",
    "from scipy.stats import pearsonr\n",
    "\n",
    "#pearsonr(dados['Distancia'], dados['Potencia'])\n",
    "print(\"p-valor:\", f\"{pearsonr(dados['Distancia'], dados['Potencia'])[1]:.4e}\")"
   ]
  },
  {
   "cell_type": "code",
   "execution_count": 29,
   "metadata": {
    "colab": {
     "base_uri": "https://localhost:8080/",
     "height": 35
    },
    "executionInfo": {
     "elapsed": 257,
     "status": "ok",
     "timestamp": 1732189719941,
     "user": {
      "displayName": "JOÃO INÁCIO SCRIMINI",
      "userId": "09372156849392623436"
     },
     "user_tz": 180
    },
    "id": "ZXbnSpDD9hqw",
    "outputId": "f2ecf57d-f27e-4aac-83e5-c1eae2973d0f"
   },
   "outputs": [
    {
     "data": {
      "application/vnd.google.colaboratory.intrinsic+json": {
       "type": "string"
      },
      "text/plain": [
       "'Rejeita-se a hipótese nula. (Aceita H1)'"
      ]
     },
     "execution_count": 29,
     "metadata": {},
     "output_type": "execute_result"
    }
   ],
   "source": [
    "# H0: Não tem correlação (r = 0)\n",
    "# H1: Tem correlação (r dif 0)\n",
    "testar_hipotese(1.1228e-13)\n",
    "# Temos então existencia de correlação"
   ]
  },
  {
   "cell_type": "code",
   "execution_count": 30,
   "metadata": {
    "colab": {
     "base_uri": "https://localhost:8080/",
     "height": 333
    },
    "executionInfo": {
     "elapsed": 612,
     "status": "ok",
     "timestamp": 1732189963148,
     "user": {
      "displayName": "JOÃO INÁCIO SCRIMINI",
      "userId": "09372156849392623436"
     },
     "user_tz": 180
    },
    "id": "_WHot3M9Uj2k",
    "outputId": "401577b1-2316-4b98-ae19-4f8bbac7ea59"
   },
   "outputs": [
    {
     "data": {
      "image/png": "[encoded data removed]",
      "text/plain": [
       "<Figure size 500x300 with 1 Axes>"
      ]
     },
     "metadata": {},
     "output_type": "display_data"
    }
   ],
   "source": [
    "# Diagrama de dispersão:\n",
    "plt.figure(figsize=(5, 3)) # Tamanho da figura\n",
    "plt.scatter(dados['Potencia'],dados['Distancia']) # (X,Y)\n",
    "plt.title('Diagrama de dispersão')\n",
    "plt.xlabel('Potencia Motor (kW)')\n",
    "plt.ylabel('Distância (km)')\n",
    "plt.show()"
   ]
  },
  {
   "cell_type": "code",
   "execution_count": 33,
   "metadata": {
    "colab": {
     "base_uri": "https://localhost:8080/"
    },
    "executionInfo": {
     "elapsed": 277,
     "status": "ok",
     "timestamp": 1732190257398,
     "user": {
      "displayName": "JOÃO INÁCIO SCRIMINI",
      "userId": "09372156849392623436"
     },
     "user_tz": 180
    },
    "id": "DX9rGrqPrcHG",
    "outputId": "ce18d4d5-f9f4-4da7-8a5a-fea99f25bb55"
   },
   "outputs": [
    {
     "name": "stdout",
     "output_type": "stream",
     "text": [
      "                            OLS Regression Results                            \n",
      "==============================================================================\n",
      "Dep. Variable:              Distancia   R-squared:                       0.686\n",
      "Model:                            OLS   Adj. R-squared:                  0.680\n",
      "Method:                 Least Squares   F-statistic:                     105.1\n",
      "Date:                Thu, 21 Nov 2024   Prob (F-statistic):           1.12e-13\n",
      "Time:                        11:57:37   Log-Likelihood:                -383.03\n",
      "No. Observations:                  50   AIC:                             770.1\n",
      "Df Residuals:                      48   BIC:                             773.9\n",
      "Df Model:                           1                                         \n",
      "Covariance Type:            nonrobust                                         \n",
      "==============================================================================\n",
      "                 coef    std err          t      P>|t|      [0.025      0.975]\n",
      "------------------------------------------------------------------------------\n",
      "const      -3644.8033    786.836     -4.632      0.000   -5226.843   -2062.763\n",
      "Potencia       4.0044      0.391     10.250      0.000       3.219       4.790\n",
      "==============================================================================\n",
      "Omnibus:                        0.283   Durbin-Watson:                   1.395\n",
      "Prob(Omnibus):                  0.868   Jarque-Bera (JB):                0.037\n",
      "Skew:                          -0.063   Prob(JB):                        0.982\n",
      "Kurtosis:                       3.043   Cond. No.                     2.14e+04\n",
      "==============================================================================\n",
      "\n",
      "Notes:\n",
      "[1] Standard Errors assume that the covariance matrix of the errors is correctly specified.\n",
      "[2] The condition number is large, 2.14e+04. This might indicate that there are\n",
      "strong multicollinearity or other numerical problems.\n"
     ]
    }
   ],
   "source": [
    "# Modelo de regressão linear simples:\n",
    "y = dados['Distancia']\n",
    "X = dados['Potencia']\n",
    "\n",
    "import statsmodels.api as sm\n",
    "\n",
    "X1 = sm.add_constant(X)\n",
    "model = sm.OLS(y, X1).fit()\n",
    "# Coeficientes do modelo\n",
    "print(model.summary())"
   ]
  },
  {
   "cell_type": "code",
   "execution_count": 34,
   "metadata": {
    "colab": {
     "base_uri": "https://localhost:8080/"
    },
    "executionInfo": {
     "elapsed": 243,
     "status": "ok",
     "timestamp": 1732190539489,
     "user": {
      "displayName": "JOÃO INÁCIO SCRIMINI",
      "userId": "09372156849392623436"
     },
     "user_tz": 180
    },
    "id": "SibfbIphY6fQ",
    "outputId": "be7475a0-d460-44fc-a4ae-e17c06f4a333"
   },
   "outputs": [
    {
     "name": "stdout",
     "output_type": "stream",
     "text": [
      "Coeficientes do modelo de regressão linear simples:\n",
      "Intercepto (a): -3644.8033\n",
      "Coeficiente (b): 4.0044\n",
      "R-quadrado (R²): 0.6864\n",
      "p-valor intercepto (a): 2.7859e-05\n",
      "p-valor coeficiente (b): 1.1228e-13\n"
     ]
    }
   ],
   "source": [
    "# Informações importantes do modelo:\n",
    "print(\"Coeficientes do modelo de regressão linear simples:\")\n",
    "print(\"Intercepto (a):\", round(model.params.iloc[0], 4))\n",
    "print(\"Coeficiente (b):\", round(model.params.iloc[1],4))\n",
    "print(\"R-quadrado (R²):\", round(model.rsquared, 4))\n",
    "print(f\"p-valor intercepto (a): {model.pvalues.iloc[0]:.4e}\")\n",
    "print(f\"p-valor coeficiente (b): {model.pvalues.iloc[1]:.4e}\")"
   ]
  },
  {
   "cell_type": "code",
   "execution_count": 35,
   "metadata": {
    "colab": {
     "base_uri": "https://localhost:8080/"
    },
    "executionInfo": {
     "elapsed": 254,
     "status": "ok",
     "timestamp": 1732190638992,
     "user": {
      "displayName": "JOÃO INÁCIO SCRIMINI",
      "userId": "09372156849392623436"
     },
     "user_tz": 180
    },
    "id": "cE8pf7PStqnY",
    "outputId": "e6fe7d68-6569-4aac-efac-d177134057e5"
   },
   "outputs": [
    {
     "name": "stdout",
     "output_type": "stream",
     "text": [
      "Rejeita-se a hipótese nula. (Aceita H1)\n",
      "Rejeita-se a hipótese nula. (Aceita H1)\n"
     ]
    }
   ],
   "source": [
    "# H0: Parametro não significativo (Não existe regressão)\n",
    "# H1: Parametro significativo (Existe regressão)\n",
    "\n",
    "# Teste de significância:\n",
    "print(testar_hipotese(2.7859e-05))\n",
    "print(testar_hipotese(1.1228e-13))\n",
    "# Intercepto (a) e coeficiente (b) são significativos, temos regressão.\n",
    "# Para ser considerado regressão precisamos ter pelo menos (b) significativo.\n",
    "# (Aceitar H1)"
   ]
  },
  {
   "cell_type": "markdown",
   "metadata": {
    "id": "jX4k1aTA3BBN"
   },
   "source": [
    "Temos:\n",
    "$$Y = -3644{,}8033 + 4{,}0044X $$\n",
    "\n",
    "$$\\text{ou}$$\n",
    "\n",
    "$$\\text{Distancia} = -3644{,}8033 + 4{,}0044\\times\\text{Potencia}$$\n",
    "\n",
    "\n",
    "$R^2$ = 0,6864, a explicabilidade do modelo é de 68,64%.\n",
    "\n",
    "**Exemplo:** Considerando uma potencia de 2250 kW teriamos:\n",
    "\n",
    "$\\text{Distancia} = -3644{,}8033 + 4{,}0044\\times2250$\n",
    "\n",
    "$\\text{Distancia} = -3644{,}8033 + 9009{,}9$\n",
    "\n",
    "$\\text{Distancia} = 5365{,}0967 \\text{ km}$\n",
    "\n",
    "Substituimos valores de X em nosso modelo e obtemos estimativas de Y."
   ]
  },
  {
   "cell_type": "code",
   "execution_count": null,
   "metadata": {
    "colab": {
     "base_uri": "https://localhost:8080/"
    },
    "executionInfo": {
     "elapsed": 242,
     "status": "ok",
     "timestamp": 1732140853926,
     "user": {
      "displayName": "JOÃO INÁCIO SCRIMINI",
      "userId": "09372156849392623436"
     },
     "user_tz": 180
    },
    "id": "k1RqnluN2J1I",
    "outputId": "0d69dc4f-992a-447c-ea64-75b882790e8f"
   },
   "outputs": [
    {
     "name": "stdout",
     "output_type": "stream",
     "text": [
      " Predito:\n",
      " 0    5004.800348\n",
      "1    4324.044508\n",
      "2    5765.645110\n",
      "3    4764.533581\n",
      "4    2842.399445\n",
      "dtype: float64\n",
      "\n",
      " Observado:\n",
      " 0    3575.77\n",
      "1    3803.76\n",
      "2    5962.33\n",
      "3    5569.17\n",
      "4    2593.53\n",
      "Name: Distancia, dtype: float64\n"
     ]
    }
   ],
   "source": [
    "# Predizendo valores com o modelo ajustado\n",
    "y_pred = model.predict(X1)\n",
    "print(\" Predito:\\n\", y_pred.head())\n",
    "print(\"\\n Observado:\\n\", y.head())"
   ]
  },
  {
   "cell_type": "code",
   "execution_count": null,
   "metadata": {
    "colab": {
     "base_uri": "https://localhost:8080/",
     "height": 311
    },
    "executionInfo": {
     "elapsed": 339,
     "status": "ok",
     "timestamp": 1732140858983,
     "user": {
      "displayName": "JOÃO INÁCIO SCRIMINI",
      "userId": "09372156849392623436"
     },
     "user_tz": 180
    },
    "id": "R6kEnDRH0Umj",
    "outputId": "d92f0dd2-6e2a-4e2d-fa0b-abc6f1632b52"
   },
   "outputs": [
    {
     "data": {
      "image/png": "[encoded data removed]",
      "text/plain": [
       "<Figure size 500x300 with 1 Axes>"
      ]
     },
     "metadata": {},
     "output_type": "display_data"
    }
   ],
   "source": [
    "# Plotando os dados e a linha de regressão\n",
    "plt.figure(figsize=(5, 3)) # Tamanho da figura\n",
    "plt.scatter(X, y, label='Dados observados') # Diagrama de dispersão\n",
    "plt.plot(X, y_pred, color='red', label='Linha de regressão') # Linha de regressão\n",
    "plt.xlabel('Velocidade (mph)')\n",
    "plt.xlabel('Potencia Motor (kW)')\n",
    "plt.ylabel('Distância (km)')\n",
    "plt.legend()\n",
    "plt.show()"
   ]
  }
 ],
 "metadata": {
  "colab": {
   "authorship_tag": "ABX9TyO7zz0vxzKxacOSO//cBX9f",
   "mount_file_id": "1W_Qp0Fgwym1d2ODwVkV5WrdRZoXczbP0",
   "provenance": []
  },
  "kernelspec": {
   "display_name": "base",
   "language": "python",
   "name": "python3"
  },
  "language_info": {
   "codemirror_mode": {
    "name": "ipython",
    "version": 3
   },
   "file_extension": ".py",
   "mimetype": "text/x-python",
   "name": "python",
   "nbconvert_exporter": "python",
   "pygments_lexer": "ipython3",
   "version": "3.9.12"
  }
 },
 "nbformat": 4,
 "nbformat_minor": 1
}
